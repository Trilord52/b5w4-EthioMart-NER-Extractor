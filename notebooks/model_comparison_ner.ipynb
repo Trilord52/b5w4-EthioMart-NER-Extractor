{
 "cells": [
  {
   "cell_type": "code",
   "execution_count": null,
   "metadata": {},
   "outputs": [],
   "source": [
    "# 1. Install dependencies\n",
    "!pip install transformers datasets seqeval matplotlib seaborn --quiet\n"
   ]
  },
  {
   "cell_type": "code",
   "execution_count": null,
   "metadata": {},
   "outputs": [],
   "source": [
    "# 2. Mount Google Drive\n",
    "from google.colab import drive\n",
    "drive.mount('/content/drive')\n"
   ]
  },
  {
   "cell_type": "code",
   "execution_count": null,
   "metadata": {},
   "outputs": [],
   "source": [
    "# 3. Set data path (update if needed)\n",
    "conll_path = '/content/drive/MyDrive/NER/ner_sample_conll.txt'\n"
   ]
  },
  {
   "cell_type": "code",
   "execution_count": null,
   "metadata": {},
   "outputs": [],
   "source": [
    "import pandas as pd\n",
    "import numpy as np\n",
    "import matplotlib.pyplot as plt\n",
    "import seaborn as sns\n",
    "\n",
    "def read_conll(filepath):\n",
    "    sentences, labels = [], []\n",
    "    with open(filepath, encoding='utf-8') as f:\n",
    "        tokens, tags = [], []\n",
    "        for line in f:\n",
    "            line = line.strip()\n",
    "            if not line:\n",
    "                if tokens:\n",
    "                    sentences.append(tokens)\n",
    "                    labels.append(tags)\n",
    "                    tokens, tags = [], []\n",
    "            else:\n",
    "                splits = line.split()\n",
    "                if len(splits) >= 2:\n",
    "                    tokens.append(splits[0])\n",
    "                    tags.append(splits[-1])\n",
    "        if tokens:\n",
    "            sentences.append(tokens)\n",
    "            labels.append(tags)\n",
    "    return sentences, labels\n",
    "\n",
    "sentences, ner_tags = read_conll(conll_path)\n",
    "unique_tags = sorted(set(tag for doc in ner_tags for tag in doc))\n",
    "tag2id = {tag: i for i, tag in enumerate(unique_tags)}\n",
    "id2tag = {i: tag for tag, i in tag2id.items()}\n",
    "\n",
    "# Visualize entity distribution\n",
    "all_labels = [tag for tags in ner_tags for tag in tags]\n",
    "label_counts = pd.Series(all_labels).value_counts()\n",
    "plt.figure(figsize=(8,4))\n",
    "sns.barplot(x=label_counts.index, y=label_counts.values, palette='husl')\n",
    "plt.title('Entity Label Distribution')\n",
    "plt.ylabel('Count')\n",
    "plt.xlabel('Entity Label')\n",
    "plt.show()\n"
   ]
  },
  {
   "cell_type": "code",
   "execution_count": null,
   "metadata": {},
   "outputs": [],
   "source": [
    "from datasets import Dataset, DatasetDict\n",
    "\n",
    "data = {\n",
    "    'tokens': sentences,\n",
    "    'ner_tags': [[tag2id[tag] for tag in tags] for tags in ner_tags]\n",
    "}\n",
    "dataset = Dataset.from_dict(data)\n",
    "dataset = dataset.train_test_split(test_size=0.2, seed=42)\n",
    "dataset = DatasetDict({'train': dataset['train'], 'test': dataset['test']})\n"
   ]
  },
  {
   "cell_type": "code",
   "execution_count": null,
   "metadata": {},
   "outputs": [],
   "source": [
    "import time\n",
    "from transformers import AutoTokenizer, AutoModelForTokenClassification, TrainingArguments, Trainer, DataCollatorForTokenClassification\n",
    "from seqeval.metrics import classification_report, f1_score, precision_score, recall_score\n",
    "\n",
    "model_names = {\n",
    "    'XLM-Roberta': 'xlm-roberta-base',\n",
    "    'mBERT': 'bert-base-multilingual-cased',\n",
    "    'DistilBERT': 'distilbert-base-multilingual-cased'\n",
    "}\n",
    "\n",
    "def tokenize_and_align_labels(examples, tokenizer):\n",
    "    tokenized_inputs = tokenizer(examples['tokens'], truncation=True, is_split_into_words=True)\n",
    "    labels = []\n",
    "    for i, label in enumerate(examples['ner_tags']):\n",
    "        word_ids = tokenized_inputs.word_ids(batch_index=i)\n",
    "        previous_word_idx = None\n",
    "        label_ids = []\n",
    "        for word_idx in word_ids:\n",
    "            if word_idx is None:\n",
    "                label_ids.append(-100)\n",
    "            elif word_idx != previous_word_idx:\n",
    "                label_ids.append(label[word_idx])\n",
    "            else:\n",
    "                label_ids.append(label[word_idx] if label[word_idx] != tag2id['O'] else tag2id['O'])\n",
    "            previous_word_idx = word_idx\n",
    "        labels.append(label_ids)\n",
    "    tokenized_inputs['labels'] = labels\n",
    "    return tokenized_inputs\n",
    "\n",
    "results = {}\n",
    "\n",
    "for model_label, model_checkpoint in model_names.items():\n",
    "    print(f'\\n--- Fine-tuning {model_label} ---')\n",
    "    tokenizer = AutoTokenizer.from_pretrained(model_checkpoint)\n",
    "    tokenized_datasets = dataset.map(lambda x: tokenize_and_align_labels(x, tokenizer), batched=True)\n",
    "    tokenized_datasets = tokenized_datasets.remove_columns(['tokens', 'ner_tags'])\n",
    "    tokenized_datasets.set_format('torch')\n",
    "    \n",
    "    model = AutoModelForTokenClassification.from_pretrained(model_checkpoint, num_labels=len(tag2id))\n",
    "    data_collator = DataCollatorForTokenClassification(tokenizer)\n",
    "    \n",
    "    args = TrainingArguments(\n",
    "        output_dir=f'/content/drive/MyDrive/NER/results/{model_label}',\n",
    "        learning_rate=2e-5,\n",
    "        per_device_train_batch_size=8,\n",
    "        per_device_eval_batch_size=8,\n",
    "        num_train_epochs=3,\n",
    "        weight_decay=0.01,\n",
    "        logging_dir=f'/content/drive/MyDrive/NER/logs/{model_label}',\n",
    "        logging_steps=10\n",
    "    )\n",
    "\n",
    "    trainer = Trainer(\n",
    "        model,\n",
    "        args,\n",
    "        train_dataset=tokenized_datasets['train'],\n",
    "        eval_dataset=tokenized_datasets['test'],\n",
    "        data_collator=data_collator,\n",
    "        tokenizer=tokenizer,\n",
    "        compute_metrics=lambda p: {\n",
    "            'f1': f1_score([[id2tag[l] for l in label if l != -100] for label in p.label_ids],\n",
    "                           [[id2tag[pred] for (pred, lab) in zip(prediction, label) if lab != -100]\n",
    "                            for prediction, label in zip(np.argmax(p.predictions, axis=2), p.label_ids)]),\n",
    "            'precision': precision_score([[id2tag[l] for l in label if l != -100] for label in p.label_ids],\n",
    "                           [[id2tag[pred] for (pred, lab) in zip(prediction, label) if lab != -100]\n",
    "                            for prediction, label in zip(np.argmax(p.predictions, axis=2), p.label_ids)]),\n",
    "            'recall': recall_score([[id2tag[l] for l in label if l != -100] for label in p.label_ids],\n",
    "                           [[id2tag[pred] for (pred, lab) in zip(prediction, label) if lab != -100]\n",
    "                            for prediction, label in zip(np.argmax(p.predictions, axis=2), p.label_ids)]),\n",
    "            'report': classification_report([[id2tag[l] for l in label if l != -100] for label in p.label_ids],\n",
    "                           [[id2tag[pred] for (pred, lab) in zip(prediction, label) if lab != -100]\n",
    "                            for prediction, label in zip(np.argmax(p.predictions, axis=2), p.label_ids)])\n",
    "        }\n",
    "    )\n",
    "\n",
    "    start = time.time()\n",
    "    trainer.train()\n",
    "    elapsed = time.time() - start\n",
    "    eval_results = trainer.evaluate()\n",
    "    print(eval_results['report'])\n",
    "    results[model_label] = {**eval_results, 'train_time': elapsed}\n"
   ]
  },
  {
   "cell_type": "code",
   "execution_count": null,
   "metadata": {},
   "outputs": [],
   "source": [
    "summary = []\n",
    "for model_label, res in results.items():\n",
    "    summary.append({\n",
    "        'Model': model_label,\n",
    "        'F1': res['f1'],\n",
    "        'Precision': res['precision'],\n",
    "        'Recall': res['recall'],\n",
    "        'Train Time (s)': res['train_time']\n",
    "    })\n",
    "\n",
    "df = pd.DataFrame(summary)\n",
    "df = df.sort_values('F1', ascending=False)\n",
    "display(df)\n",
    "\n",
    "plt.figure(figsize=(8,4))\n",
    "sns.barplot(x='Model', y='F1', data=df, palette='husl')\n",
    "plt.title('F1 Score by Model')\n",
    "plt.show()\n"
   ]
  },
  {
   "cell_type": "code",
   "execution_count": null,
   "metadata": {},
   "outputs": [],
   "source": []
  },
  {
   "cell_type": "code",
   "execution_count": null,
   "metadata": {},
   "outputs": [],
   "source": []
  },
  {
   "cell_type": "code",
   "execution_count": null,
   "metadata": {},
   "outputs": [],
   "source": []
  },
  {
   "cell_type": "code",
   "execution_count": null,
   "metadata": {},
   "outputs": [],
   "source": []
  },
  {
   "cell_type": "code",
   "execution_count": null,
   "metadata": {},
   "outputs": [],
   "source": []
  },
  {
   "cell_type": "code",
   "execution_count": null,
   "metadata": {},
   "outputs": [],
   "source": []
  },
  {
   "cell_type": "code",
   "execution_count": null,
   "metadata": {},
   "outputs": [],
   "source": []
  },
  {
   "cell_type": "code",
   "execution_count": null,
   "metadata": {},
   "outputs": [],
   "source": []
  },
  {
   "cell_type": "code",
   "execution_count": null,
   "metadata": {},
   "outputs": [],
   "source": []
  },
  {
   "cell_type": "code",
   "execution_count": null,
   "metadata": {},
   "outputs": [],
   "source": []
  },
  {
   "cell_type": "code",
   "execution_count": null,
   "metadata": {},
   "outputs": [],
   "source": []
  }
 ],
 "metadata": {
  "kernelspec": {
   "display_name": "venv",
   "language": "python",
   "name": "python3"
  },
  "language_info": {
   "codemirror_mode": {
    "name": "ipython",
    "version": 3
   },
   "file_extension": ".py",
   "mimetype": "text/x-python",
   "name": "python",
   "nbconvert_exporter": "python",
   "pygments_lexer": "ipython3",
   "version": "3.13.3"
  }
 },
 "nbformat": 4,
 "nbformat_minor": 2
}
